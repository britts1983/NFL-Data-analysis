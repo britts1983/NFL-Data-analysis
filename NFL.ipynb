{
 "cells": [
  {
   "cell_type": "code",
   "execution_count": 2,
   "metadata": {
    "collapsed": true
   },
   "outputs": [],
   "source": [
    "import numpy as np\n",
    "import pandas as pd\n",
    "from pandas import DataFrame,Series"
   ]
  },
  {
   "cell_type": "code",
   "execution_count": 3,
   "metadata": {
    "collapsed": true
   },
   "outputs": [],
   "source": [
    "import seaborn as sns\n",
    "import matplotlib.pyplot as plt"
   ]
  },
  {
   "cell_type": "code",
   "execution_count": 4,
   "metadata": {
    "collapsed": true
   },
   "outputs": [],
   "source": [
    "pd.options.display.max_columns = 99"
   ]
  },
  {
   "cell_type": "code",
   "execution_count": 5,
   "metadata": {
    "collapsed": true,
    "scrolled": true
   },
   "outputs": [],
   "source": [
    "data = pd.read_csv(\"D:\\Data\\NFL\\Nflstatistics\\Basic_stats.csv\")"
   ]
  },
  {
   "cell_type": "code",
   "execution_count": 6,
   "metadata": {},
   "outputs": [
    {
     "data": {
      "text/html": [
       "<div>\n",
       "<style>\n",
       "    .dataframe thead tr:only-child th {\n",
       "        text-align: right;\n",
       "    }\n",
       "\n",
       "    .dataframe thead th {\n",
       "        text-align: left;\n",
       "    }\n",
       "\n",
       "    .dataframe tbody tr th {\n",
       "        vertical-align: top;\n",
       "    }\n",
       "</style>\n",
       "<table border=\"1\" class=\"dataframe\">\n",
       "  <thead>\n",
       "    <tr style=\"text-align: right;\">\n",
       "      <th></th>\n",
       "      <th>Age</th>\n",
       "      <th>Birth Place</th>\n",
       "      <th>Birthday</th>\n",
       "      <th>College</th>\n",
       "      <th>Current Status</th>\n",
       "      <th>Current Team</th>\n",
       "      <th>Experience</th>\n",
       "      <th>Height (inches)</th>\n",
       "      <th>High School</th>\n",
       "      <th>High School Location</th>\n",
       "      <th>Name</th>\n",
       "      <th>Number</th>\n",
       "      <th>Player Id</th>\n",
       "      <th>Position</th>\n",
       "      <th>Weight (lbs)</th>\n",
       "      <th>Years Played</th>\n",
       "    </tr>\n",
       "  </thead>\n",
       "  <tbody>\n",
       "    <tr>\n",
       "      <th>0</th>\n",
       "      <td>NaN</td>\n",
       "      <td>Grand Rapids , MI</td>\n",
       "      <td>5/23/1921</td>\n",
       "      <td>Notre Dame</td>\n",
       "      <td>Retired</td>\n",
       "      <td>NaN</td>\n",
       "      <td>3 Seasons</td>\n",
       "      <td>71.0</td>\n",
       "      <td>NaN</td>\n",
       "      <td>NaN</td>\n",
       "      <td>Evans, Fred</td>\n",
       "      <td>NaN</td>\n",
       "      <td>fredevans/2513736</td>\n",
       "      <td>NaN</td>\n",
       "      <td>185.0</td>\n",
       "      <td>1946 - 1948</td>\n",
       "    </tr>\n",
       "    <tr>\n",
       "      <th>1</th>\n",
       "      <td>NaN</td>\n",
       "      <td>Dayton , OH</td>\n",
       "      <td>12/21/1930</td>\n",
       "      <td>Dayton</td>\n",
       "      <td>Retired</td>\n",
       "      <td>NaN</td>\n",
       "      <td>1 Season</td>\n",
       "      <td>70.0</td>\n",
       "      <td>NaN</td>\n",
       "      <td>NaN</td>\n",
       "      <td>Raiff, Jim</td>\n",
       "      <td>NaN</td>\n",
       "      <td>jimraiff/2523700</td>\n",
       "      <td>NaN</td>\n",
       "      <td>235.0</td>\n",
       "      <td>1954 - 1954</td>\n",
       "    </tr>\n",
       "    <tr>\n",
       "      <th>2</th>\n",
       "      <td>56.0</td>\n",
       "      <td>Temple , TX</td>\n",
       "      <td>9/11/1960</td>\n",
       "      <td>Louisiana Tech</td>\n",
       "      <td>Retired</td>\n",
       "      <td>NaN</td>\n",
       "      <td>1 Season</td>\n",
       "      <td>74.0</td>\n",
       "      <td>NaN</td>\n",
       "      <td>NaN</td>\n",
       "      <td>Fowler, Bobby</td>\n",
       "      <td>NaN</td>\n",
       "      <td>bobbyfowler/2514295</td>\n",
       "      <td>NaN</td>\n",
       "      <td>230.0</td>\n",
       "      <td>1985 - 1985</td>\n",
       "    </tr>\n",
       "    <tr>\n",
       "      <th>3</th>\n",
       "      <td>30.0</td>\n",
       "      <td>New Orleans , LA</td>\n",
       "      <td>9/30/1986</td>\n",
       "      <td>LSU</td>\n",
       "      <td>Retired</td>\n",
       "      <td>NaN</td>\n",
       "      <td>5 Seasons</td>\n",
       "      <td>73.0</td>\n",
       "      <td>NaN</td>\n",
       "      <td>NaN</td>\n",
       "      <td>Johnson, Quinn</td>\n",
       "      <td>NaN</td>\n",
       "      <td>quinnjohnson/79593</td>\n",
       "      <td>NaN</td>\n",
       "      <td>255.0</td>\n",
       "      <td>2009 - 2013</td>\n",
       "    </tr>\n",
       "    <tr>\n",
       "      <th>4</th>\n",
       "      <td>25.0</td>\n",
       "      <td>Detroit , MI</td>\n",
       "      <td>3/31/1992</td>\n",
       "      <td>Central Michigan</td>\n",
       "      <td>Active</td>\n",
       "      <td>Pittsburgh Steelers</td>\n",
       "      <td>3rd season</td>\n",
       "      <td>77.0</td>\n",
       "      <td>Clintondale HS</td>\n",
       "      <td>Clinton Twp.,Macomb Co., MI</td>\n",
       "      <td>Walton, L.T.</td>\n",
       "      <td>96.0</td>\n",
       "      <td>l.t.walton/2552444</td>\n",
       "      <td>DE</td>\n",
       "      <td>305.0</td>\n",
       "      <td>NaN</td>\n",
       "    </tr>\n",
       "  </tbody>\n",
       "</table>\n",
       "</div>"
      ],
      "text/plain": [
       "    Age        Birth Place    Birthday           College Current Status  \\\n",
       "0   NaN  Grand Rapids , MI   5/23/1921        Notre Dame        Retired   \n",
       "1   NaN        Dayton , OH  12/21/1930            Dayton        Retired   \n",
       "2  56.0        Temple , TX   9/11/1960    Louisiana Tech        Retired   \n",
       "3  30.0   New Orleans , LA   9/30/1986               LSU        Retired   \n",
       "4  25.0       Detroit , MI   3/31/1992  Central Michigan         Active   \n",
       "\n",
       "          Current Team  Experience  Height (inches)     High School  \\\n",
       "0                  NaN   3 Seasons             71.0             NaN   \n",
       "1                  NaN    1 Season             70.0             NaN   \n",
       "2                  NaN    1 Season             74.0             NaN   \n",
       "3                  NaN   5 Seasons             73.0             NaN   \n",
       "4  Pittsburgh Steelers  3rd season             77.0  Clintondale HS   \n",
       "\n",
       "          High School Location            Name  Number            Player Id  \\\n",
       "0                          NaN     Evans, Fred     NaN    fredevans/2513736   \n",
       "1                          NaN      Raiff, Jim     NaN     jimraiff/2523700   \n",
       "2                          NaN   Fowler, Bobby     NaN  bobbyfowler/2514295   \n",
       "3                          NaN  Johnson, Quinn     NaN   quinnjohnson/79593   \n",
       "4  Clinton Twp.,Macomb Co., MI    Walton, L.T.    96.0   l.t.walton/2552444   \n",
       "\n",
       "  Position  Weight (lbs) Years Played  \n",
       "0      NaN         185.0  1946 - 1948  \n",
       "1      NaN         235.0  1954 - 1954  \n",
       "2      NaN         230.0  1985 - 1985  \n",
       "3      NaN         255.0  2009 - 2013  \n",
       "4       DE         305.0          NaN  "
      ]
     },
     "execution_count": 6,
     "metadata": {},
     "output_type": "execute_result"
    }
   ],
   "source": [
    "data.head()"
   ]
  },
  {
   "cell_type": "code",
   "execution_count": 7,
   "metadata": {},
   "outputs": [
    {
     "data": {
      "text/html": [
       "<div>\n",
       "<style>\n",
       "    .dataframe thead tr:only-child th {\n",
       "        text-align: right;\n",
       "    }\n",
       "\n",
       "    .dataframe thead th {\n",
       "        text-align: left;\n",
       "    }\n",
       "\n",
       "    .dataframe tbody tr th {\n",
       "        vertical-align: top;\n",
       "    }\n",
       "</style>\n",
       "<table border=\"1\" class=\"dataframe\">\n",
       "  <thead>\n",
       "    <tr style=\"text-align: right;\">\n",
       "      <th></th>\n",
       "      <th>Age</th>\n",
       "      <th>Height (inches)</th>\n",
       "      <th>Number</th>\n",
       "      <th>Weight (lbs)</th>\n",
       "    </tr>\n",
       "  </thead>\n",
       "  <tbody>\n",
       "    <tr>\n",
       "      <th>count</th>\n",
       "      <td>13504.000000</td>\n",
       "      <td>17026.000000</td>\n",
       "      <td>1708.000000</td>\n",
       "      <td>17121.000000</td>\n",
       "    </tr>\n",
       "    <tr>\n",
       "      <th>mean</th>\n",
       "      <td>43.839307</td>\n",
       "      <td>73.508399</td>\n",
       "      <td>51.771077</td>\n",
       "      <td>229.220665</td>\n",
       "    </tr>\n",
       "    <tr>\n",
       "      <th>std</th>\n",
       "      <td>34.133513</td>\n",
       "      <td>2.577632</td>\n",
       "      <td>28.497726</td>\n",
       "      <td>42.732732</td>\n",
       "    </tr>\n",
       "    <tr>\n",
       "      <th>min</th>\n",
       "      <td>19.000000</td>\n",
       "      <td>61.000000</td>\n",
       "      <td>1.000000</td>\n",
       "      <td>1.000000</td>\n",
       "    </tr>\n",
       "    <tr>\n",
       "      <th>25%</th>\n",
       "      <td>28.000000</td>\n",
       "      <td>72.000000</td>\n",
       "      <td>26.000000</td>\n",
       "      <td>195.000000</td>\n",
       "    </tr>\n",
       "    <tr>\n",
       "      <th>50%</th>\n",
       "      <td>39.000000</td>\n",
       "      <td>74.000000</td>\n",
       "      <td>52.000000</td>\n",
       "      <td>220.000000</td>\n",
       "    </tr>\n",
       "    <tr>\n",
       "      <th>75%</th>\n",
       "      <td>55.000000</td>\n",
       "      <td>75.000000</td>\n",
       "      <td>77.000000</td>\n",
       "      <td>255.000000</td>\n",
       "    </tr>\n",
       "    <tr>\n",
       "      <th>max</th>\n",
       "      <td>2017.000000</td>\n",
       "      <td>82.000000</td>\n",
       "      <td>99.000000</td>\n",
       "      <td>375.000000</td>\n",
       "    </tr>\n",
       "  </tbody>\n",
       "</table>\n",
       "</div>"
      ],
      "text/plain": [
       "                Age  Height (inches)       Number  Weight (lbs)\n",
       "count  13504.000000     17026.000000  1708.000000  17121.000000\n",
       "mean      43.839307        73.508399    51.771077    229.220665\n",
       "std       34.133513         2.577632    28.497726     42.732732\n",
       "min       19.000000        61.000000     1.000000      1.000000\n",
       "25%       28.000000        72.000000    26.000000    195.000000\n",
       "50%       39.000000        74.000000    52.000000    220.000000\n",
       "75%       55.000000        75.000000    77.000000    255.000000\n",
       "max     2017.000000        82.000000    99.000000    375.000000"
      ]
     },
     "execution_count": 7,
     "metadata": {},
     "output_type": "execute_result"
    }
   ],
   "source": [
    "data.describe()"
   ]
  },
  {
   "cell_type": "code",
   "execution_count": 8,
   "metadata": {},
   "outputs": [
    {
     "data": {
      "text/plain": [
       "Number                  15464\n",
       "High School Location    14662\n",
       "High School             14658\n",
       "Position                14076\n",
       "Current Team            14076\n",
       "Age                      3668\n",
       "Years Played             3096\n",
       "Birth Place              2378\n",
       "Birthday                  337\n",
       "Height (inches)           146\n",
       "Weight (lbs)               51\n",
       "Experience                 39\n",
       "College                    39\n",
       "Player Id                   0\n",
       "Name                        0\n",
       "Current Status              0\n",
       "dtype: int64"
      ]
     },
     "execution_count": 8,
     "metadata": {},
     "output_type": "execute_result"
    }
   ],
   "source": [
    "data.isnull().sum().sort_values(ascending = False)"
   ]
  },
  {
   "cell_type": "code",
   "execution_count": 9,
   "metadata": {},
   "outputs": [
    {
     "name": "stdout",
     "output_type": "stream",
     "text": [
      "<class 'pandas.core.frame.DataFrame'>\n",
      "RangeIndex: 17172 entries, 0 to 17171\n",
      "Data columns (total 16 columns):\n",
      "Age                     13504 non-null float64\n",
      "Birth Place             14794 non-null object\n",
      "Birthday                16835 non-null object\n",
      "College                 17133 non-null object\n",
      "Current Status          17172 non-null object\n",
      "Current Team            3096 non-null object\n",
      "Experience              17133 non-null object\n",
      "Height (inches)         17026 non-null float64\n",
      "High School             2514 non-null object\n",
      "High School Location    2510 non-null object\n",
      "Name                    17172 non-null object\n",
      "Number                  1708 non-null float64\n",
      "Player Id               17172 non-null object\n",
      "Position                3096 non-null object\n",
      "Weight (lbs)            17121 non-null float64\n",
      "Years Played            14076 non-null object\n",
      "dtypes: float64(4), object(12)\n",
      "memory usage: 2.1+ MB\n"
     ]
    }
   ],
   "source": [
    "data.info()"
   ]
  },
  {
   "cell_type": "code",
   "execution_count": 10,
   "metadata": {},
   "outputs": [
    {
     "data": {
      "text/plain": [
       "Retired                         14076\n",
       "Active                           2877\n",
       "Unsigned free agent               199\n",
       "Injured reserve                    15\n",
       "Suspended                           4\n",
       "Physically unable to perform        1\n",
       "Name: Current Status, dtype: int64"
      ]
     },
     "execution_count": 10,
     "metadata": {},
     "output_type": "execute_result"
    }
   ],
   "source": [
    "data['Current Status'].value_counts()"
   ]
  },
  {
   "cell_type": "code",
   "execution_count": 11,
   "metadata": {
    "collapsed": true
   },
   "outputs": [],
   "source": [
    "active = data[data['Current Status'] == 'Active']"
   ]
  },
  {
   "cell_type": "code",
   "execution_count": 12,
   "metadata": {},
   "outputs": [
    {
     "data": {
      "text/html": [
       "<div>\n",
       "<style>\n",
       "    .dataframe thead tr:only-child th {\n",
       "        text-align: right;\n",
       "    }\n",
       "\n",
       "    .dataframe thead th {\n",
       "        text-align: left;\n",
       "    }\n",
       "\n",
       "    .dataframe tbody tr th {\n",
       "        vertical-align: top;\n",
       "    }\n",
       "</style>\n",
       "<table border=\"1\" class=\"dataframe\">\n",
       "  <thead>\n",
       "    <tr style=\"text-align: right;\">\n",
       "      <th></th>\n",
       "      <th>Age</th>\n",
       "      <th>Birth Place</th>\n",
       "      <th>Birthday</th>\n",
       "      <th>College</th>\n",
       "      <th>Current Status</th>\n",
       "      <th>Current Team</th>\n",
       "      <th>Experience</th>\n",
       "      <th>Height (inches)</th>\n",
       "      <th>High School</th>\n",
       "      <th>High School Location</th>\n",
       "      <th>Name</th>\n",
       "      <th>Number</th>\n",
       "      <th>Player Id</th>\n",
       "      <th>Position</th>\n",
       "      <th>Weight (lbs)</th>\n",
       "      <th>Years Played</th>\n",
       "    </tr>\n",
       "  </thead>\n",
       "  <tbody>\n",
       "    <tr>\n",
       "      <th>4</th>\n",
       "      <td>25.0</td>\n",
       "      <td>Detroit , MI</td>\n",
       "      <td>3/31/1992</td>\n",
       "      <td>Central Michigan</td>\n",
       "      <td>Active</td>\n",
       "      <td>Pittsburgh Steelers</td>\n",
       "      <td>3rd season</td>\n",
       "      <td>77.0</td>\n",
       "      <td>Clintondale HS</td>\n",
       "      <td>Clinton Twp.,Macomb Co., MI</td>\n",
       "      <td>Walton, L.T.</td>\n",
       "      <td>96.0</td>\n",
       "      <td>l.t.walton/2552444</td>\n",
       "      <td>DE</td>\n",
       "      <td>305.0</td>\n",
       "      <td>NaN</td>\n",
       "    </tr>\n",
       "    <tr>\n",
       "      <th>7</th>\n",
       "      <td>22.0</td>\n",
       "      <td>Navarre , FL</td>\n",
       "      <td>1/31/1995</td>\n",
       "      <td>Clemson</td>\n",
       "      <td>Active</td>\n",
       "      <td>New York Jets</td>\n",
       "      <td>Rookie</td>\n",
       "      <td>77.0</td>\n",
       "      <td>Navarre HS</td>\n",
       "      <td>FL</td>\n",
       "      <td>Leggett, Jordan</td>\n",
       "      <td>NaN</td>\n",
       "      <td>jordanleggett/2557885</td>\n",
       "      <td>TE</td>\n",
       "      <td>250.0</td>\n",
       "      <td>NaN</td>\n",
       "    </tr>\n",
       "    <tr>\n",
       "      <th>17</th>\n",
       "      <td>25.0</td>\n",
       "      <td>NaN</td>\n",
       "      <td>3/11/1992</td>\n",
       "      <td>Pittsburgh</td>\n",
       "      <td>Active</td>\n",
       "      <td>Washington Redskins</td>\n",
       "      <td>1st season</td>\n",
       "      <td>74.0</td>\n",
       "      <td>NaN</td>\n",
       "      <td>NaN</td>\n",
       "      <td>Garner, Manasseh</td>\n",
       "      <td>NaN</td>\n",
       "      <td>manassehgarner/2553801</td>\n",
       "      <td>TE</td>\n",
       "      <td>220.0</td>\n",
       "      <td>NaN</td>\n",
       "    </tr>\n",
       "    <tr>\n",
       "      <th>35</th>\n",
       "      <td>29.0</td>\n",
       "      <td>Dayton , OH</td>\n",
       "      <td>4/1/1988</td>\n",
       "      <td>Ohio State</td>\n",
       "      <td>Active</td>\n",
       "      <td>Carolina Panthers</td>\n",
       "      <td>8th season</td>\n",
       "      <td>71.0</td>\n",
       "      <td>Northmont HS</td>\n",
       "      <td>Clayton, OH</td>\n",
       "      <td>Coleman, Kurt</td>\n",
       "      <td>20.0</td>\n",
       "      <td>kurtcoleman/494261</td>\n",
       "      <td>SS</td>\n",
       "      <td>200.0</td>\n",
       "      <td>NaN</td>\n",
       "    </tr>\n",
       "    <tr>\n",
       "      <th>37</th>\n",
       "      <td>26.0</td>\n",
       "      <td>Rodeo , CA</td>\n",
       "      <td>7/28/1990</td>\n",
       "      <td>Ohio U.</td>\n",
       "      <td>Active</td>\n",
       "      <td>Oakland Raiders</td>\n",
       "      <td>4th season</td>\n",
       "      <td>72.0</td>\n",
       "      <td>De La Salle HS</td>\n",
       "      <td>Concord, CA</td>\n",
       "      <td>Carrie, T.J.</td>\n",
       "      <td>38.0</td>\n",
       "      <td>t.j.carrie/2550164</td>\n",
       "      <td>SS</td>\n",
       "      <td>205.0</td>\n",
       "      <td>NaN</td>\n",
       "    </tr>\n",
       "  </tbody>\n",
       "</table>\n",
       "</div>"
      ],
      "text/plain": [
       "     Age   Birth Place   Birthday           College Current Status  \\\n",
       "4   25.0  Detroit , MI  3/31/1992  Central Michigan         Active   \n",
       "7   22.0  Navarre , FL  1/31/1995           Clemson         Active   \n",
       "17  25.0           NaN  3/11/1992        Pittsburgh         Active   \n",
       "35  29.0   Dayton , OH   4/1/1988        Ohio State         Active   \n",
       "37  26.0    Rodeo , CA  7/28/1990           Ohio U.         Active   \n",
       "\n",
       "           Current Team  Experience  Height (inches)     High School  \\\n",
       "4   Pittsburgh Steelers  3rd season             77.0  Clintondale HS   \n",
       "7         New York Jets      Rookie             77.0      Navarre HS   \n",
       "17  Washington Redskins  1st season             74.0             NaN   \n",
       "35    Carolina Panthers  8th season             71.0    Northmont HS   \n",
       "37      Oakland Raiders  4th season             72.0  De La Salle HS   \n",
       "\n",
       "           High School Location              Name  Number  \\\n",
       "4   Clinton Twp.,Macomb Co., MI      Walton, L.T.    96.0   \n",
       "7                            FL   Leggett, Jordan     NaN   \n",
       "17                          NaN  Garner, Manasseh     NaN   \n",
       "35                  Clayton, OH     Coleman, Kurt    20.0   \n",
       "37                  Concord, CA      Carrie, T.J.    38.0   \n",
       "\n",
       "                 Player Id Position  Weight (lbs) Years Played  \n",
       "4       l.t.walton/2552444       DE         305.0          NaN  \n",
       "7    jordanleggett/2557885       TE         250.0          NaN  \n",
       "17  manassehgarner/2553801       TE         220.0          NaN  \n",
       "35      kurtcoleman/494261       SS         200.0          NaN  \n",
       "37      t.j.carrie/2550164       SS         205.0          NaN  "
      ]
     },
     "execution_count": 12,
     "metadata": {},
     "output_type": "execute_result"
    }
   ],
   "source": [
    "active.head()"
   ]
  },
  {
   "cell_type": "code",
   "execution_count": 13,
   "metadata": {},
   "outputs": [
    {
     "data": {
      "image/png": "[encoded data removed]",
      "text/plain": [
       "<matplotlib.figure.Figure at 0xe982b38>"
      ]
     },
     "metadata": {},
     "output_type": "display_data"
    }
   ],
   "source": [
    "active['Height (inches)'].plot(kind = 'hist')\n",
    "plt.show()"
   ]
  },
  {
   "cell_type": "code",
   "execution_count": 14,
   "metadata": {},
   "outputs": [
    {
     "data": {
      "text/plain": [
       "Atlanta Falcons         91\n",
       "Tampa Bay Buccaneers    91\n",
       "Carolina Panthers       91\n",
       "Philadelphia Eagles     90\n",
       "New York Giants         90\n",
       "Detroit Lions           90\n",
       "Tennessee Titans        90\n",
       "Chicago Bears           90\n",
       "Green Bay Packers       90\n",
       "New Orleans Saints      90\n",
       "New England Patriots    90\n",
       "Buffalo Bills           90\n",
       "Denver Broncos          90\n",
       "Minnesota Vikings       90\n",
       "Kansas City Chiefs      90\n",
       "Indianapolis Colts      90\n",
       "Baltimore Ravens        90\n",
       "Los Angeles Rams        90\n",
       "Washington Redskins     90\n",
       "San Francisco 49ers     90\n",
       "Oakland Raiders         90\n",
       "Cleveland Browns        90\n",
       "Pittsburgh Steelers     90\n",
       "Jacksonville Jaguars    90\n",
       "Houston Texans          90\n",
       "Seattle Seahawks        90\n",
       "Dallas Cowboys          90\n",
       "Los Angeles Chargers    89\n",
       "New York Jets           89\n",
       "Arizona Cardinals       89\n",
       "Cincinnati Bengals      89\n",
       "Miami Dolphins          88\n",
       "Name: Current Team, dtype: int64"
      ]
     },
     "execution_count": 14,
     "metadata": {},
     "output_type": "execute_result"
    }
   ],
   "source": [
    "active['Current Team'].value_counts()"
   ]
  },
  {
   "cell_type": "code",
   "execution_count": 15,
   "metadata": {},
   "outputs": [
    {
     "data": {
      "text/plain": [
       "32"
      ]
     },
     "execution_count": 15,
     "metadata": {},
     "output_type": "execute_result"
    }
   ],
   "source": [
    "active['Current Team'].nunique()"
   ]
  },
  {
   "cell_type": "code",
   "execution_count": 16,
   "metadata": {},
   "outputs": [
    {
     "data": {
      "image/png": "[encoded data removed]",
      "text/plain": [
       "<matplotlib.figure.Figure at 0xe4d3b70>"
      ]
     },
     "metadata": {},
     "output_type": "display_data"
    }
   ],
   "source": [
    "plt.figure(figsize = (15,7))\n",
    "active['College'].value_counts()[:20].sort_values().plot(kind = 'barh')\n",
    "plt.show()"
   ]
  },
  {
   "cell_type": "code",
   "execution_count": 17,
   "metadata": {},
   "outputs": [
    {
     "data": {
      "text/plain": [
       "Louisville       4\n",
       "Virginia Tech    3\n",
       "Ohio State       3\n",
       "LSU              3\n",
       "Alabama          3\n",
       "Name: College, dtype: int64"
      ]
     },
     "execution_count": 17,
     "metadata": {},
     "output_type": "execute_result"
    }
   ],
   "source": [
    "active.loc[active['Current Team'] == 'Buffalo Bills','College'].value_counts()[:5]"
   ]
  },
  {
   "cell_type": "code",
   "execution_count": 18,
   "metadata": {
    "collapsed": true
   },
   "outputs": [],
   "source": [
    "\n",
    "defence = pd.read_csv(\"D:\\Data\\NFL\\Nflstatistics\\Career_Stats_Defensive.csv\")"
   ]
  },
  {
   "cell_type": "code",
   "execution_count": 19,
   "metadata": {},
   "outputs": [
    {
     "data": {
      "text/html": [
       "<div>\n",
       "<style>\n",
       "    .dataframe thead tr:only-child th {\n",
       "        text-align: right;\n",
       "    }\n",
       "\n",
       "    .dataframe thead th {\n",
       "        text-align: left;\n",
       "    }\n",
       "\n",
       "    .dataframe tbody tr th {\n",
       "        vertical-align: top;\n",
       "    }\n",
       "</style>\n",
       "<table border=\"1\" class=\"dataframe\">\n",
       "  <thead>\n",
       "    <tr style=\"text-align: right;\">\n",
       "      <th></th>\n",
       "      <th>Player Id</th>\n",
       "      <th>Name</th>\n",
       "      <th>Position</th>\n",
       "      <th>Year</th>\n",
       "      <th>Team</th>\n",
       "      <th>Games Played</th>\n",
       "      <th>Total Tackles</th>\n",
       "      <th>Solo Tackles</th>\n",
       "      <th>Assisted Tackles</th>\n",
       "      <th>Sacks</th>\n",
       "      <th>Safties</th>\n",
       "      <th>Passes Defended</th>\n",
       "      <th>Ints</th>\n",
       "      <th>Ints for TDs</th>\n",
       "      <th>Int Yards</th>\n",
       "      <th>Yards Per Int</th>\n",
       "      <th>Longest Int Return</th>\n",
       "    </tr>\n",
       "  </thead>\n",
       "  <tbody>\n",
       "    <tr>\n",
       "      <th>0</th>\n",
       "      <td>quinnjohnson/79593</td>\n",
       "      <td>Johnson, Quinn</td>\n",
       "      <td>NaN</td>\n",
       "      <td>2013</td>\n",
       "      <td>Tennessee Titans</td>\n",
       "      <td>4</td>\n",
       "      <td>0</td>\n",
       "      <td>--</td>\n",
       "      <td>--</td>\n",
       "      <td>--</td>\n",
       "      <td>--</td>\n",
       "      <td>--</td>\n",
       "      <td>--</td>\n",
       "      <td>--</td>\n",
       "      <td>--</td>\n",
       "      <td>0.0</td>\n",
       "      <td>--</td>\n",
       "    </tr>\n",
       "    <tr>\n",
       "      <th>1</th>\n",
       "      <td>quinnjohnson/79593</td>\n",
       "      <td>Johnson, Quinn</td>\n",
       "      <td>NaN</td>\n",
       "      <td>2012</td>\n",
       "      <td>Tennessee Titans</td>\n",
       "      <td>16</td>\n",
       "      <td>1</td>\n",
       "      <td>1</td>\n",
       "      <td>0</td>\n",
       "      <td>0.0</td>\n",
       "      <td>--</td>\n",
       "      <td>0</td>\n",
       "      <td>--</td>\n",
       "      <td>--</td>\n",
       "      <td>--</td>\n",
       "      <td>0.0</td>\n",
       "      <td>--</td>\n",
       "    </tr>\n",
       "    <tr>\n",
       "      <th>2</th>\n",
       "      <td>quinnjohnson/79593</td>\n",
       "      <td>Johnson, Quinn</td>\n",
       "      <td>NaN</td>\n",
       "      <td>2011</td>\n",
       "      <td>Tennessee Titans</td>\n",
       "      <td>4</td>\n",
       "      <td>0</td>\n",
       "      <td>--</td>\n",
       "      <td>--</td>\n",
       "      <td>--</td>\n",
       "      <td>--</td>\n",
       "      <td>--</td>\n",
       "      <td>--</td>\n",
       "      <td>--</td>\n",
       "      <td>--</td>\n",
       "      <td>0.0</td>\n",
       "      <td>--</td>\n",
       "    </tr>\n",
       "    <tr>\n",
       "      <th>3</th>\n",
       "      <td>quinnjohnson/79593</td>\n",
       "      <td>Johnson, Quinn</td>\n",
       "      <td>NaN</td>\n",
       "      <td>2011</td>\n",
       "      <td>Denver Broncos</td>\n",
       "      <td>0</td>\n",
       "      <td>0</td>\n",
       "      <td>--</td>\n",
       "      <td>--</td>\n",
       "      <td>--</td>\n",
       "      <td>--</td>\n",
       "      <td>--</td>\n",
       "      <td>--</td>\n",
       "      <td>--</td>\n",
       "      <td>--</td>\n",
       "      <td>0.0</td>\n",
       "      <td>--</td>\n",
       "    </tr>\n",
       "    <tr>\n",
       "      <th>4</th>\n",
       "      <td>quinnjohnson/79593</td>\n",
       "      <td>Johnson, Quinn</td>\n",
       "      <td>NaN</td>\n",
       "      <td>2010</td>\n",
       "      <td>Green Bay Packers</td>\n",
       "      <td>11</td>\n",
       "      <td>4</td>\n",
       "      <td>4</td>\n",
       "      <td>0</td>\n",
       "      <td>0.0</td>\n",
       "      <td>--</td>\n",
       "      <td>0</td>\n",
       "      <td>--</td>\n",
       "      <td>--</td>\n",
       "      <td>--</td>\n",
       "      <td>0.0</td>\n",
       "      <td>--</td>\n",
       "    </tr>\n",
       "  </tbody>\n",
       "</table>\n",
       "</div>"
      ],
      "text/plain": [
       "            Player Id            Name Position  Year               Team  \\\n",
       "0  quinnjohnson/79593  Johnson, Quinn      NaN  2013   Tennessee Titans   \n",
       "1  quinnjohnson/79593  Johnson, Quinn      NaN  2012   Tennessee Titans   \n",
       "2  quinnjohnson/79593  Johnson, Quinn      NaN  2011   Tennessee Titans   \n",
       "3  quinnjohnson/79593  Johnson, Quinn      NaN  2011     Denver Broncos   \n",
       "4  quinnjohnson/79593  Johnson, Quinn      NaN  2010  Green Bay Packers   \n",
       "\n",
       "   Games Played Total Tackles Solo Tackles Assisted Tackles Sacks Safties  \\\n",
       "0             4             0           --               --    --      --   \n",
       "1            16             1            1                0   0.0      --   \n",
       "2             4             0           --               --    --      --   \n",
       "3             0             0           --               --    --      --   \n",
       "4            11             4            4                0   0.0      --   \n",
       "\n",
       "  Passes Defended Ints Ints for TDs Int Yards  Yards Per Int  \\\n",
       "0              --   --           --        --            0.0   \n",
       "1               0   --           --        --            0.0   \n",
       "2              --   --           --        --            0.0   \n",
       "3              --   --           --        --            0.0   \n",
       "4               0   --           --        --            0.0   \n",
       "\n",
       "  Longest Int Return  \n",
       "0                 --  \n",
       "1                 --  \n",
       "2                 --  \n",
       "3                 --  \n",
       "4                 --  "
      ]
     },
     "execution_count": 19,
     "metadata": {},
     "output_type": "execute_result"
    }
   ],
   "source": [
    "defence.head()"
   ]
  },
  {
   "cell_type": "code",
   "execution_count": 20,
   "metadata": {},
   "outputs": [
    {
     "name": "stdout",
     "output_type": "stream",
     "text": [
      "<class 'pandas.core.frame.DataFrame'>\n",
      "RangeIndex: 23998 entries, 0 to 23997\n",
      "Data columns (total 17 columns):\n",
      "Player Id             23998 non-null object\n",
      "Name                  23998 non-null object\n",
      "Position              6955 non-null object\n",
      "Year                  23998 non-null int64\n",
      "Team                  23998 non-null object\n",
      "Games Played          23998 non-null int64\n",
      "Total Tackles         23998 non-null object\n",
      "Solo Tackles          23998 non-null object\n",
      "Assisted Tackles      23998 non-null object\n",
      "Sacks                 23998 non-null object\n",
      "Safties               23998 non-null object\n",
      "Passes Defended       23998 non-null object\n",
      "Ints                  23998 non-null object\n",
      "Ints for TDs          23998 non-null object\n",
      "Int Yards             23998 non-null object\n",
      "Yards Per Int         23998 non-null float64\n",
      "Longest Int Return    23998 non-null object\n",
      "dtypes: float64(1), int64(2), object(14)\n",
      "memory usage: 3.1+ MB\n"
     ]
    }
   ],
   "source": [
    "defence.info()"
   ]
  },
  {
   "cell_type": "code",
   "execution_count": 21,
   "metadata": {},
   "outputs": [
    {
     "data": {
      "text/plain": [
       "<matplotlib.figure.Figure at 0xfdab630>"
      ]
     },
     "metadata": {},
     "output_type": "display_data"
    },
    {
     "data": {
      "image/png": "[encoded data removed]",
      "text/plain": [
       "<matplotlib.figure.Figure at 0xfdab7f0>"
      ]
     },
     "metadata": {},
     "output_type": "display_data"
    }
   ],
   "source": [
    "plt.figure(figsize = (15,7))\n",
    "defence.groupby(['Name']).agg({'Games Played':'sum'}).sort_values(by = ['Games Played'],ascending = False)[:20].plot(kind = 'barh')\n",
    "plt.show()"
   ]
  },
  {
   "cell_type": "code",
   "execution_count": 22,
   "metadata": {
    "collapsed": true
   },
   "outputs": [],
   "source": [
    "defence['Sacks'].replace({'--':0},inplace = True)"
   ]
  },
  {
   "cell_type": "code",
   "execution_count": 23,
   "metadata": {},
   "outputs": [
    {
     "data": {
      "text/plain": [
       "0        0.0\n",
       "1        0.0\n",
       "2        0.0\n",
       "3        0.0\n",
       "4        0.0\n",
       "5        0.0\n",
       "6        0.0\n",
       "7        0.0\n",
       "8        1.0\n",
       "9        0.0\n",
       "10       0.0\n",
       "11       2.0\n",
       "12       2.0\n",
       "13       1.0\n",
       "14       1.0\n",
       "15       0.5\n",
       "16       0.0\n",
       "17       1.0\n",
       "18       1.0\n",
       "19       5.5\n",
       "20       5.0\n",
       "21       0.5\n",
       "22       1.0\n",
       "23       1.0\n",
       "24       2.0\n",
       "25       0.0\n",
       "26       2.0\n",
       "27       0.0\n",
       "28       1.0\n",
       "29       0.0\n",
       "        ... \n",
       "23968    0.0\n",
       "23969    0.0\n",
       "23970    0.0\n",
       "23971    0.0\n",
       "23972    0.0\n",
       "23973    0.0\n",
       "23974    1.0\n",
       "23975    6.5\n",
       "23976    3.0\n",
       "23977    8.0\n",
       "23978    9.0\n",
       "23979    7.0\n",
       "23980    4.0\n",
       "23981    5.0\n",
       "23982    4.0\n",
       "23983    0.0\n",
       "23984    0.0\n",
       "23985    0.0\n",
       "23986    0.0\n",
       "23987    0.0\n",
       "23988    0.0\n",
       "23989    0.0\n",
       "23990    0.0\n",
       "23991    0.0\n",
       "23992    0.0\n",
       "23993    0.0\n",
       "23994    0.0\n",
       "23995    0.0\n",
       "23996    0.0\n",
       "23997    2.0\n",
       "Name: Sacks, Length: 23998, dtype: float64"
      ]
     },
     "execution_count": 23,
     "metadata": {},
     "output_type": "execute_result"
    }
   ],
   "source": [
    "defence['Sacks'].astype('float',copy = False)"
   ]
  },
  {
   "cell_type": "code",
   "execution_count": 24,
   "metadata": {
    "collapsed": true
   },
   "outputs": [],
   "source": [
    "#pd.to_numeric(defence['Sacks'], errors='coerce')\n",
    "defence['Sacks'] = defence['Sacks'].apply(pd.to_numeric)"
   ]
  },
  {
   "cell_type": "code",
   "execution_count": 29,
   "metadata": {
    "scrolled": false
   },
   "outputs": [
    {
     "data": {
      "image/png": "[encoded data removed]",
      "text/plain": [
       "<matplotlib.figure.Figure at 0xec41f28>"
      ]
     },
     "metadata": {},
     "output_type": "display_data"
    }
   ],
   "source": [
    "defence.groupby(['Name']).agg({'Sacks':'sum'}).sort_values(by = ['Sacks'],ascending = False)[:20].plot(kind = 'barh')\n",
    "plt.show()"
   ]
  },
  {
   "cell_type": "code",
   "execution_count": 27,
   "metadata": {
    "scrolled": true
   },
   "outputs": [
    {
     "data": {
      "text/html": [
       "<div>\n",
       "<style>\n",
       "    .dataframe thead tr:only-child th {\n",
       "        text-align: right;\n",
       "    }\n",
       "\n",
       "    .dataframe thead th {\n",
       "        text-align: left;\n",
       "    }\n",
       "\n",
       "    .dataframe tbody tr th {\n",
       "        vertical-align: top;\n",
       "    }\n",
       "</style>\n",
       "<table border=\"1\" class=\"dataframe\">\n",
       "  <thead>\n",
       "    <tr style=\"text-align: right;\">\n",
       "      <th></th>\n",
       "      <th>Player Id</th>\n",
       "      <th>Name</th>\n",
       "      <th>Position</th>\n",
       "      <th>Year</th>\n",
       "      <th>Team</th>\n",
       "      <th>Games Played</th>\n",
       "      <th>Total Tackles</th>\n",
       "      <th>Solo Tackles</th>\n",
       "      <th>Assisted Tackles</th>\n",
       "      <th>Sacks</th>\n",
       "      <th>Safties</th>\n",
       "      <th>Passes Defended</th>\n",
       "      <th>Ints</th>\n",
       "      <th>Ints for TDs</th>\n",
       "      <th>Int Yards</th>\n",
       "      <th>Yards Per Int</th>\n",
       "      <th>Longest Int Return</th>\n",
       "    </tr>\n",
       "  </thead>\n",
       "  <tbody>\n",
       "    <tr>\n",
       "      <th>0</th>\n",
       "      <td>quinnjohnson/79593</td>\n",
       "      <td>Johnson, Quinn</td>\n",
       "      <td>NaN</td>\n",
       "      <td>2013</td>\n",
       "      <td>Tennessee Titans</td>\n",
       "      <td>4</td>\n",
       "      <td>0</td>\n",
       "      <td>--</td>\n",
       "      <td>--</td>\n",
       "      <td>0.0</td>\n",
       "      <td>--</td>\n",
       "      <td>--</td>\n",
       "      <td>--</td>\n",
       "      <td>--</td>\n",
       "      <td>--</td>\n",
       "      <td>0.0</td>\n",
       "      <td>--</td>\n",
       "    </tr>\n",
       "  </tbody>\n",
       "</table>\n",
       "</div>"
      ],
      "text/plain": [
       "            Player Id            Name Position  Year              Team  \\\n",
       "0  quinnjohnson/79593  Johnson, Quinn      NaN  2013  Tennessee Titans   \n",
       "\n",
       "   Games Played Total Tackles Solo Tackles Assisted Tackles  Sacks Safties  \\\n",
       "0             4             0           --               --    0.0      --   \n",
       "\n",
       "  Passes Defended Ints Ints for TDs Int Yards  Yards Per Int  \\\n",
       "0              --   --           --        --            0.0   \n",
       "\n",
       "  Longest Int Return  \n",
       "0                 --  "
      ]
     },
     "execution_count": 27,
     "metadata": {},
     "output_type": "execute_result"
    }
   ],
   "source": [
    "defence.head(1)"
   ]
  },
  {
   "cell_type": "code",
   "execution_count": 47,
   "metadata": {},
   "outputs": [],
   "source": [
    "abc = defence.groupby(['Team','Name']).agg({'Games Played':'sum'}).sort_values(by = 'Games Played',ascending = False)"
   ]
  },
  {
   "cell_type": "code",
   "execution_count": 45,
   "metadata": {},
   "outputs": [
    {
     "data": {
      "image/png": "[encoded data removed]",
      "text/plain": [
       "<matplotlib.figure.Figure at 0xf90ac50>"
      ]
     },
     "metadata": {},
     "output_type": "display_data"
    }
   ],
   "source": [
    "defence.groupby(['Name']).agg({'Games Played':'sum'}).sort_values(by = 'Games Played',ascending = False)[:10].plot(kind = 'barh',color = 'g')\n",
    "plt.show()"
   ]
  },
  {
   "cell_type": "code",
   "execution_count": 48,
   "metadata": {
    "scrolled": true
   },
   "outputs": [
    {
     "ename": "ValueError",
     "evalue": "Could not interpret input 'Team'",
     "output_type": "error",
     "traceback": [
      "\u001b[1;31m---------------------------------------------------------------------------\u001b[0m",
      "\u001b[1;31mValueError\u001b[0m                                Traceback (most recent call last)",
      "\u001b[1;32m<ipython-input-48-eb4af886ab5f>\u001b[0m in \u001b[0;36m<module>\u001b[1;34m()\u001b[0m\n\u001b[0;32m      1\u001b[0m \u001b[0mplt\u001b[0m\u001b[1;33m.\u001b[0m\u001b[0msubplots\u001b[0m\u001b[1;33m(\u001b[0m\u001b[0mfigsize\u001b[0m\u001b[1;33m=\u001b[0m\u001b[1;33m(\u001b[0m\u001b[1;36m10\u001b[0m\u001b[1;33m,\u001b[0m\u001b[1;36m6\u001b[0m\u001b[1;33m)\u001b[0m\u001b[1;33m)\u001b[0m\u001b[1;33m\u001b[0m\u001b[0m\n\u001b[1;32m----> 2\u001b[1;33m \u001b[0msns\u001b[0m\u001b[1;33m.\u001b[0m\u001b[0mcountplot\u001b[0m\u001b[1;33m(\u001b[0m\u001b[0mx\u001b[0m\u001b[1;33m=\u001b[0m\u001b[1;34m'Team'\u001b[0m\u001b[1;33m,\u001b[0m\u001b[0mhue\u001b[0m\u001b[1;33m=\u001b[0m\u001b[1;34m'Name'\u001b[0m\u001b[1;33m,\u001b[0m\u001b[0mdata\u001b[0m\u001b[1;33m=\u001b[0m\u001b[0mabc\u001b[0m\u001b[1;33m)\u001b[0m\u001b[1;33m\u001b[0m\u001b[0m\n\u001b[0m\u001b[0;32m      3\u001b[0m \u001b[0mmlt\u001b[0m\u001b[1;33m.\u001b[0m\u001b[0mshow\u001b[0m\u001b[1;33m(\u001b[0m\u001b[1;33m)\u001b[0m\u001b[1;33m\u001b[0m\u001b[0m\n",
      "\u001b[1;32mC:\\Users\\jinda\\Anaconda2\\lib\\site-packages\\seaborn\\categorical.pyc\u001b[0m in \u001b[0;36mcountplot\u001b[1;34m(x, y, hue, data, order, hue_order, orient, color, palette, saturation, ax, **kwargs)\u001b[0m\n\u001b[0;32m   3256\u001b[0m                           \u001b[0mestimator\u001b[0m\u001b[1;33m,\u001b[0m \u001b[0mci\u001b[0m\u001b[1;33m,\u001b[0m \u001b[0mn_boot\u001b[0m\u001b[1;33m,\u001b[0m \u001b[0munits\u001b[0m\u001b[1;33m,\u001b[0m\u001b[1;33m\u001b[0m\u001b[0m\n\u001b[0;32m   3257\u001b[0m                           \u001b[0morient\u001b[0m\u001b[1;33m,\u001b[0m \u001b[0mcolor\u001b[0m\u001b[1;33m,\u001b[0m \u001b[0mpalette\u001b[0m\u001b[1;33m,\u001b[0m \u001b[0msaturation\u001b[0m\u001b[1;33m,\u001b[0m\u001b[1;33m\u001b[0m\u001b[0m\n\u001b[1;32m-> 3258\u001b[1;33m                           errcolor)\n\u001b[0m\u001b[0;32m   3259\u001b[0m \u001b[1;33m\u001b[0m\u001b[0m\n\u001b[0;32m   3260\u001b[0m     \u001b[0mplotter\u001b[0m\u001b[1;33m.\u001b[0m\u001b[0mvalue_label\u001b[0m \u001b[1;33m=\u001b[0m \u001b[1;34m\"count\"\u001b[0m\u001b[1;33m\u001b[0m\u001b[0m\n",
      "\u001b[1;32mC:\\Users\\jinda\\Anaconda2\\lib\\site-packages\\seaborn\\categorical.pyc\u001b[0m in \u001b[0;36m__init__\u001b[1;34m(self, x, y, hue, data, order, hue_order, estimator, ci, n_boot, units, orient, color, palette, saturation, errcolor, errwidth, capsize)\u001b[0m\n\u001b[0;32m   1541\u001b[0m         \u001b[1;34m\"\"\"Initialize the plotter.\"\"\"\u001b[0m\u001b[1;33m\u001b[0m\u001b[0m\n\u001b[0;32m   1542\u001b[0m         self.establish_variables(x, y, hue, data, orient,\n\u001b[1;32m-> 1543\u001b[1;33m                                  order, hue_order, units)\n\u001b[0m\u001b[0;32m   1544\u001b[0m         \u001b[0mself\u001b[0m\u001b[1;33m.\u001b[0m\u001b[0mestablish_colors\u001b[0m\u001b[1;33m(\u001b[0m\u001b[0mcolor\u001b[0m\u001b[1;33m,\u001b[0m \u001b[0mpalette\u001b[0m\u001b[1;33m,\u001b[0m \u001b[0msaturation\u001b[0m\u001b[1;33m)\u001b[0m\u001b[1;33m\u001b[0m\u001b[0m\n\u001b[0;32m   1545\u001b[0m         \u001b[0mself\u001b[0m\u001b[1;33m.\u001b[0m\u001b[0mestimate_statistic\u001b[0m\u001b[1;33m(\u001b[0m\u001b[0mestimator\u001b[0m\u001b[1;33m,\u001b[0m \u001b[0mci\u001b[0m\u001b[1;33m,\u001b[0m \u001b[0mn_boot\u001b[0m\u001b[1;33m)\u001b[0m\u001b[1;33m\u001b[0m\u001b[0m\n",
      "\u001b[1;32mC:\\Users\\jinda\\Anaconda2\\lib\\site-packages\\seaborn\\categorical.pyc\u001b[0m in \u001b[0;36mestablish_variables\u001b[1;34m(self, x, y, hue, data, orient, order, hue_order, units)\u001b[0m\n\u001b[0;32m    149\u001b[0m                 \u001b[1;32mif\u001b[0m \u001b[0misinstance\u001b[0m\u001b[1;33m(\u001b[0m\u001b[0minput\u001b[0m\u001b[1;33m,\u001b[0m \u001b[0mstring_types\u001b[0m\u001b[1;33m)\u001b[0m\u001b[1;33m:\u001b[0m\u001b[1;33m\u001b[0m\u001b[0m\n\u001b[0;32m    150\u001b[0m                     \u001b[0merr\u001b[0m \u001b[1;33m=\u001b[0m \u001b[1;34m\"Could not interpret input '{}'\"\u001b[0m\u001b[1;33m.\u001b[0m\u001b[0mformat\u001b[0m\u001b[1;33m(\u001b[0m\u001b[0minput\u001b[0m\u001b[1;33m)\u001b[0m\u001b[1;33m\u001b[0m\u001b[0m\n\u001b[1;32m--> 151\u001b[1;33m                     \u001b[1;32mraise\u001b[0m \u001b[0mValueError\u001b[0m\u001b[1;33m(\u001b[0m\u001b[0merr\u001b[0m\u001b[1;33m)\u001b[0m\u001b[1;33m\u001b[0m\u001b[0m\n\u001b[0m\u001b[0;32m    152\u001b[0m \u001b[1;33m\u001b[0m\u001b[0m\n\u001b[0;32m    153\u001b[0m             \u001b[1;31m# Figure out the plotting orientation\u001b[0m\u001b[1;33m\u001b[0m\u001b[1;33m\u001b[0m\u001b[0m\n",
      "\u001b[1;31mValueError\u001b[0m: Could not interpret input 'Team'"
     ]
    }
   ],
   "source": [
    "plt.subplots(figsize=(10,6))\n",
    "sns.countplot(x='Team',hue='Name',data=abc)\n",
    "mlt.show()"
   ]
  },
  {
   "cell_type": "code",
   "execution_count": null,
   "metadata": {
    "collapsed": true
   },
   "outputs": [],
   "source": []
  }
 ],
 "metadata": {
  "kernelspec": {
   "display_name": "Python 2",
   "language": "python",
   "name": "python2"
  },
  "language_info": {
   "codemirror_mode": {
    "name": "ipython",
    "version": 2
   },
   "file_extension": ".py",
   "mimetype": "text/x-python",
   "name": "python",
   "nbconvert_exporter": "python",
   "pygments_lexer": "ipython2",
   "version": "2.7.13"
  }
 },
 "nbformat": 4,
 "nbformat_minor": 2
}
